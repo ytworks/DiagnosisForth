{
 "cells": [
  {
   "cell_type": "code",
   "execution_count": 1,
   "metadata": {},
   "outputs": [],
   "source": [
    "from pathlib import Path\n",
    "import time\n",
    "import warnings\n",
    "\n",
    "warnings.filterwarnings(\"ignore\")\n",
    "\n",
    "import pandas as pd\n",
    "import kampo\n",
    "import openbabel\n",
    "import numpy as np\n",
    "import matplotlib.pyplot as plt\n",
    "from matplotlib import colors\n",
    "from plip.structure.preparation import PDBComplex\n",
    "from plip.exchange.report import BindingSiteReport\n",
    "#from kampo.interactions import analyzer\n",
    "#from kampo.converters import obabel, bp"
   ]
  },
  {
   "cell_type": "code",
   "execution_count": 2,
   "metadata": {},
   "outputs": [
    {
     "name": "stderr",
     "output_type": "stream",
     "text": [
      "6 molecules converted\n"
     ]
    }
   ],
   "source": [
    "base_work_dir = Path.cwd()\n",
    "base_work_dir = base_work_dir.resolve()\n",
    "work_dir = base_work_dir\n",
    "pdbqt_files = sorted(list((work_dir / 'data').glob(\"*.pdbqt\")))\n",
    "for f in pdbqt_files:\n",
    "    kampo.converters.obabel.pdbqt2sdf(f\"{f}\", str(work_dir / 'data' / f\"{f.stem}.sdf\"))"
   ]
  },
  {
   "cell_type": "code",
   "execution_count": 3,
   "metadata": {},
   "outputs": [
    {
     "name": "stdout",
     "output_type": "stream",
     "text": [
      "Done! Complex saved to /Users/yuzotakagi/dev/drug/kampo/examples/data/complex.pdb\n"
     ]
    }
   ],
   "source": [
    "sdf_filepath = str(work_dir / 'data' / \"ligand_0_0-0_out.sdf\") # @param {type: \"string\"}\n",
    "pdb_filepath = str(work_dir / 'data' /\"5ndd_sligkv_lig9_frame_95_alignto_opm.pdb\") # @param {type: \"string\"}\n",
    "output_path = str(work_dir / 'data' /\"complex.pdb\") # @param {type: \"string\"}\n",
    "kampo.converters.bp.getComplex(sdf_filepath, pdb_filepath, output_path)"
   ]
  },
  {
   "cell_type": "code",
   "execution_count": 5,
   "metadata": {},
   "outputs": [],
   "source": [
    "interactions_by_site = kampo.interactions.analyzer.retrieve_plip_interactions(output_path)\n",
    "index_of_selected_site = 0\n",
    "selected_site = list(interactions_by_site.keys())[index_of_selected_site]\n"
   ]
  },
  {
   "cell_type": "code",
   "execution_count": 7,
   "metadata": {},
   "outputs": [
    {
     "data": {
      "text/html": [
       "<div>\n",
       "<style scoped>\n",
       "    .dataframe tbody tr th:only-of-type {\n",
       "        vertical-align: middle;\n",
       "    }\n",
       "\n",
       "    .dataframe tbody tr th {\n",
       "        vertical-align: top;\n",
       "    }\n",
       "\n",
       "    .dataframe thead th {\n",
       "        text-align: right;\n",
       "    }\n",
       "</style>\n",
       "<table border=\"1\" class=\"dataframe\">\n",
       "  <thead>\n",
       "    <tr style=\"text-align: right;\">\n",
       "      <th></th>\n",
       "      <th>RESNR</th>\n",
       "      <th>RESTYPE</th>\n",
       "      <th>RESCHAIN</th>\n",
       "      <th>RESNR_LIG</th>\n",
       "      <th>RESTYPE_LIG</th>\n",
       "      <th>RESCHAIN_LIG</th>\n",
       "      <th>SIDECHAIN</th>\n",
       "      <th>DIST_H-A</th>\n",
       "      <th>DIST_D-A</th>\n",
       "      <th>DON_ANGLE</th>\n",
       "      <th>PROTISDON</th>\n",
       "      <th>DONORIDX</th>\n",
       "      <th>DONORTYPE</th>\n",
       "      <th>ACCEPTORIDX</th>\n",
       "      <th>ACCEPTORTYPE</th>\n",
       "      <th>LIGCOO</th>\n",
       "      <th>PROTCOO</th>\n",
       "    </tr>\n",
       "  </thead>\n",
       "  <tbody>\n",
       "    <tr>\n",
       "      <th>0</th>\n",
       "      <td>326</td>\n",
       "      <td>TYR</td>\n",
       "      <td>1</td>\n",
       "      <td>1</td>\n",
       "      <td>UNL</td>\n",
       "      <td>Z</td>\n",
       "      <td>True</td>\n",
       "      <td>2.59</td>\n",
       "      <td>3.45</td>\n",
       "      <td>147.99</td>\n",
       "      <td>True</td>\n",
       "      <td>5919</td>\n",
       "      <td>O3</td>\n",
       "      <td>6465</td>\n",
       "      <td>N2</td>\n",
       "      <td>(4.836, -1.373, 15.012)</td>\n",
       "      <td>(3.284, -4.409, 14.516)</td>\n",
       "    </tr>\n",
       "    <tr>\n",
       "      <th>1</th>\n",
       "      <td>156</td>\n",
       "      <td>TYR</td>\n",
       "      <td>1</td>\n",
       "      <td>1</td>\n",
       "      <td>UNL</td>\n",
       "      <td>Z</td>\n",
       "      <td>True</td>\n",
       "      <td>3.48</td>\n",
       "      <td>3.91</td>\n",
       "      <td>109.17</td>\n",
       "      <td>True</td>\n",
       "      <td>1585</td>\n",
       "      <td>O3</td>\n",
       "      <td>6461</td>\n",
       "      <td>O2</td>\n",
       "      <td>(3.901, 2.487, 15.662)</td>\n",
       "      <td>(1.735, -0.143, 13.746)</td>\n",
       "    </tr>\n",
       "    <tr>\n",
       "      <th>2</th>\n",
       "      <td>227</td>\n",
       "      <td>HIS</td>\n",
       "      <td>1</td>\n",
       "      <td>1</td>\n",
       "      <td>UNL</td>\n",
       "      <td>Z</td>\n",
       "      <td>True</td>\n",
       "      <td>3.27</td>\n",
       "      <td>3.67</td>\n",
       "      <td>106.82</td>\n",
       "      <td>True</td>\n",
       "      <td>2741</td>\n",
       "      <td>Npl</td>\n",
       "      <td>6461</td>\n",
       "      <td>O2</td>\n",
       "      <td>(3.901, 2.487, 15.662)</td>\n",
       "      <td>(0.789, 0.621, 16.236)</td>\n",
       "    </tr>\n",
       "    <tr>\n",
       "      <th>3</th>\n",
       "      <td>227</td>\n",
       "      <td>HIS</td>\n",
       "      <td>1</td>\n",
       "      <td>1</td>\n",
       "      <td>UNL</td>\n",
       "      <td>Z</td>\n",
       "      <td>False</td>\n",
       "      <td>2.99</td>\n",
       "      <td>3.85</td>\n",
       "      <td>140.69</td>\n",
       "      <td>False</td>\n",
       "      <td>6463</td>\n",
       "      <td>Nam</td>\n",
       "      <td>2736</td>\n",
       "      <td>O2</td>\n",
       "      <td>(3.641, 0.294, 16.195)</td>\n",
       "      <td>(2.713, 1.0, 19.869)</td>\n",
       "    </tr>\n",
       "  </tbody>\n",
       "</table>\n",
       "</div>"
      ],
      "text/plain": [
       "   RESNR RESTYPE RESCHAIN  RESNR_LIG RESTYPE_LIG RESCHAIN_LIG  SIDECHAIN  \\\n",
       "0    326     TYR        1          1         UNL            Z       True   \n",
       "1    156     TYR        1          1         UNL            Z       True   \n",
       "2    227     HIS        1          1         UNL            Z       True   \n",
       "3    227     HIS        1          1         UNL            Z      False   \n",
       "\n",
       "  DIST_H-A DIST_D-A DON_ANGLE  PROTISDON  DONORIDX DONORTYPE  ACCEPTORIDX  \\\n",
       "0     2.59     3.45    147.99       True      5919        O3         6465   \n",
       "1     3.48     3.91    109.17       True      1585        O3         6461   \n",
       "2     3.27     3.67    106.82       True      2741       Npl         6461   \n",
       "3     2.99     3.85    140.69      False      6463       Nam         2736   \n",
       "\n",
       "  ACCEPTORTYPE                   LIGCOO                  PROTCOO  \n",
       "0           N2  (4.836, -1.373, 15.012)  (3.284, -4.409, 14.516)  \n",
       "1           O2   (3.901, 2.487, 15.662)  (1.735, -0.143, 13.746)  \n",
       "2           O2   (3.901, 2.487, 15.662)   (0.789, 0.621, 16.236)  \n",
       "3           O2   (3.641, 0.294, 16.195)     (2.713, 1.0, 19.869)  "
      ]
     },
     "execution_count": 7,
     "metadata": {},
     "output_type": "execute_result"
    }
   ],
   "source": [
    "kampo.interactions.analyzer.create_df_from_binding_site(interactions_by_site[selected_site], interaction_type=\"hbond\")"
   ]
  }
 ],
 "metadata": {
  "kernelspec": {
   "display_name": "kampo",
   "language": "python",
   "name": "python3"
  },
  "language_info": {
   "codemirror_mode": {
    "name": "ipython",
    "version": 3
   },
   "file_extension": ".py",
   "mimetype": "text/x-python",
   "name": "python",
   "nbconvert_exporter": "python",
   "pygments_lexer": "ipython3",
   "version": "3.9.18"
  }
 },
 "nbformat": 4,
 "nbformat_minor": 2
}
